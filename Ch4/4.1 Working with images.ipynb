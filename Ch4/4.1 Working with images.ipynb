{
  "nbformat": 4,
  "nbformat_minor": 0,
  "metadata": {
    "colab": {
      "name": "4.1 Working with images.ipynb",
      "provenance": [],
      "toc_visible": true
    },
    "kernelspec": {
      "name": "python3",
      "display_name": "Python 3"
    },
    "language_info": {
      "name": "python"
    }
  },
  "cells": [
    {
      "cell_type": "markdown",
      "metadata": {
        "id": "eO7qxzOvxDfI"
      },
      "source": [
        "### Loading an image file\n",
        "\n",
        "imageio module을 통해서 PNG 파일을 불러와 보자.\n",
        "이미지는 width, height 그리고 (r,g,b) 채널로 이루어진 3차원 Numpy arraylike object이다."
      ]
    },
    {
      "cell_type": "code",
      "metadata": {
        "id": "DcDkH12txGMT"
      },
      "source": [
        "import imageio"
      ],
      "execution_count": 1,
      "outputs": []
    },
    {
      "cell_type": "code",
      "metadata": {
        "colab": {
          "base_uri": "https://localhost:8080/"
        },
        "id": "DI-Jg761x52z",
        "outputId": "c150fe89-27a7-4b07-8555-8887a1940cb9"
      },
      "source": [
        "!wget https://raw.githubusercontent.com/deep-learning-with-pytorch/dlwpt-code/master/data/p1ch4/image-dog/bobby.jpg"
      ],
      "execution_count": 8,
      "outputs": [
        {
          "output_type": "stream",
          "text": [
            "--2021-03-30 06:18:53--  https://raw.githubusercontent.com/deep-learning-with-pytorch/dlwpt-code/master/data/p1ch4/image-dog/bobby.jpg\n",
            "Resolving raw.githubusercontent.com (raw.githubusercontent.com)... 185.199.108.133, 185.199.109.133, 185.199.110.133, ...\n",
            "Connecting to raw.githubusercontent.com (raw.githubusercontent.com)|185.199.108.133|:443... connected.\n",
            "HTTP request sent, awaiting response... 200 OK\n",
            "Length: 75801 (74K) [image/jpeg]\n",
            "Saving to: ‘bobby.jpg’\n",
            "\n",
            "\rbobby.jpg             0%[                    ]       0  --.-KB/s               \rbobby.jpg           100%[===================>]  74.02K  --.-KB/s    in 0.01s   \n",
            "\n",
            "2021-03-30 06:18:53 (5.32 MB/s) - ‘bobby.jpg’ saved [75801/75801]\n",
            "\n"
          ],
          "name": "stdout"
        }
      ]
    },
    {
      "cell_type": "code",
      "metadata": {
        "colab": {
          "base_uri": "https://localhost:8080/"
        },
        "id": "2Txek5EbxR4V",
        "outputId": "ff1f688d-869d-4536-d902-a68e3bf5665d"
      },
      "source": [
        "img_arr = imageio.imread('bobby.jpg')\n",
        "img_arr.shape"
      ],
      "execution_count": 9,
      "outputs": [
        {
          "output_type": "execute_result",
          "data": {
            "text/plain": [
              "(720, 1280, 3)"
            ]
          },
          "metadata": {
            "tags": []
          },
          "execution_count": 9
        }
      ]
    },
    {
      "cell_type": "markdown",
      "metadata": {
        "id": "YCrD8kYmy7U9"
      },
      "source": [
        "### Changing the layout\n",
        "\n"
      ]
    },
    {
      "cell_type": "code",
      "metadata": {
        "id": "Hw2MdOJczEWA"
      },
      "source": [
        "import torch\n",
        "img = torch.from_numpy(img_arr)\n",
        "out = img.permute(2,0,1)"
      ],
      "execution_count": 12,
      "outputs": []
    },
    {
      "cell_type": "markdown",
      "metadata": {
        "id": "q7Vfe6yJzj-K"
      },
      "source": [
        "위의 코드를 통해서 H\\*W\\*C 채널은 C\\*H\\*W로 변경되었다.\n",
        "\n",
        "이때 주의할 점은 img를 수정한다면 out도 같이 변화하게 된다는 것이다.\n",
        "\n",
        "batch에 이미지를 N\\*C\\*H\\*W로 저장을 해보자."
      ]
    },
    {
      "cell_type": "code",
      "metadata": {
        "id": "NBwFt2Ypz22I"
      },
      "source": [
        "batch_size = 3\n",
        "batch = torch.zeros(batch_size,3,256,256,dtype=torch.uint8)"
      ],
      "execution_count": 13,
      "outputs": []
    },
    {
      "cell_type": "code",
      "metadata": {
        "id": "30rXziw70RbT"
      },
      "source": [
        "!wget -P ./cat/ https://raw.githubusercontent.com/deep-learning-with-pytorch/dlwpt-code/master/data/p1ch4/image-cats/cat1.png\n",
        "!wget -P ./cat/ https://raw.githubusercontent.com/deep-learning-with-pytorch/dlwpt-code/master/data/p1ch4/image-cats/cat2.png\n",
        "!wget -P ./cat/ https://raw.githubusercontent.com/deep-learning-with-pytorch/dlwpt-code/master/data/p1ch4/image-cats/cat3.png"
      ],
      "execution_count": null,
      "outputs": []
    },
    {
      "cell_type": "code",
      "metadata": {
        "id": "UdxSGg280mPR"
      },
      "source": [
        "import os\n",
        "data_dir='./cat'\n",
        "filenames = [name for name in os.listdir(data_dir) if os.path.splitext(name)[-1]=='.png']\n",
        "for i, filename in enumerate(filenames):\n",
        "    img_arr = imageio.imread(os.path.join(data_dir,filename))\n",
        "    img_t = torch.from_numpy(img_arr)\n",
        "    img_t = img_t.permute(2,0,1)\n",
        "    img_t=img_t[:3]\n",
        "    # Alpha 채널이 있을 수 있기 때문에 앞의 3개의 채널만 받는다.\n",
        "    batch[i]=img_t"
      ],
      "execution_count": 21,
      "outputs": []
    },
    {
      "cell_type": "markdown",
      "metadata": {
        "id": "GUb3huWZ1Z-L"
      },
      "source": [
        "데이터를 0에서 1, -1에서 1로 하는 것은 NN을 잘 학습시키기 위해서 필요하다.\n",
        "\n",
        "이를 위해서 다음과 같은 방법이 있다.\n",
        "1. 8-bit 에서의 최대값인 255 나누어주는 방법"
      ]
    },
    {
      "cell_type": "code",
      "metadata": {
        "id": "JeFPF2e91won"
      },
      "source": [
        "batch = batch.float()\n",
        "batch /= 255.0"
      ],
      "execution_count": 23,
      "outputs": []
    },
    {
      "cell_type": "markdown",
      "metadata": {
        "id": "NSRAk4KD2BfP"
      },
      "source": [
        "2. 평균과 분산을 구해 zero mean, unit standard deviation을 가지도록 한다."
      ]
    },
    {
      "cell_type": "code",
      "metadata": {
        "id": "vZXOuQbU2Srr"
      },
      "source": [
        "n_channels = batch.shape[1]\n",
        "for c in range(n_channels):\n",
        "    mean = torch.mean(batch[:,c])\n",
        "    std = torch.std(batch[:,c])\n",
        "    batch[:,c]= (batch[:,c] - mean)/std"
      ],
      "execution_count": 27,
      "outputs": []
    }
  ]
}